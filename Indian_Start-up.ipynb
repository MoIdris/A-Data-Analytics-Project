{
 "cells": [
  {
   "cell_type": "markdown",
   "id": "04399aa6",
   "metadata": {},
   "source": [
    "# Analysing Funding in the Indian Startup Ecosystem"
   ]
  },
  {
   "cell_type": "markdown",
   "id": "ab3e58ce",
   "metadata": {},
   "source": [
    "## Business Understanding\n",
    "**Objective:** The primary objective is to venture into the Indian start-up ecosystem. This involves understanding the landscape of start-ups in India, their funding patterns, and the key players in the ecosystem (both start-ups and investors).\n",
    "\n",
    "**Problem Definition:** The problem can be defined as analyzing the funding received by Indian start-ups from 2018 to 2021. This involves understanding the trends in funding, identifying the sectors or industries that are attracting the most investment, and recognizing the major investors in the ecosystem.\n",
    "\n",
    "**Data Understanding:** The data that will be used for this analysis includes details of the start-ups, the funding amounts they received, and information about the investors. This data will be provided separately for each year from 2018 to 2021 via three different sources.\n",
    "\n",
    "**Plan:** The preliminary plan would involve cleaning and preprocessing the data, conducting exploratory data analysis to understand trends and patterns, and possibly building predictive models to forecast future trends in the start-up ecosystem.\n",
    "\n",
    "**Success Criteria:** The success of this project could be measured by the team’s ability to gain insights that help in making informed decisions about venturing into the Indian start-up ecosystem. This could involve identifying promising sectors, understanding the competitive landscape, and recognizing potential investment opportunities."
   ]
  },
  {
   "cell_type": "markdown",
   "id": "bf1eeb81",
   "metadata": {},
   "source": [
    "## Data Understanding\n"
   ]
  },
  {
   "cell_type": "markdown",
   "id": "fd5dc59e",
   "metadata": {},
   "source": [
    "### Setup:"
   ]
  },
  {
   "cell_type": "markdown",
   "id": "c93cd0b8",
   "metadata": {},
   "source": [
    "### Importation\n",
    "Here is the section to import all the packages/libraries that will be used through the notebook"
   ]
  },
  {
   "cell_type": "code",
   "execution_count": null,
   "id": "0b612c4e",
   "metadata": {},
   "outputs": [],
   "source": [
    "# Import all the necessary packages\n",
    "\n",
    "import pyodbc     \n",
    "from dotenv import dotenv_values   \n",
    "import pandas as pd\n",
    "import numpy as np\n",
    "import scipy.stats as stats\n",
    "import seaborn as sns\n",
    "import matplotlib.pyplot as plt\n",
    "import os\n",
    "import warnings\n",
    "\n",
    "\n",
    "warnings.filterwarnings('ignore')"
   ]
  },
  {
   "cell_type": "markdown",
   "id": "7ea00ba4",
   "metadata": {},
   "source": [
    "### Data Loading\n",
    "Here is the section to load the dataset"
   ]
  },
  {
   "cell_type": "code",
   "execution_count": null,
   "id": "fbc7e24f",
   "metadata": {},
   "outputs": [],
   "source": [
    "# Load from GitHub repository source\n",
    "\n",
    "# URL of the raw csv file in the GitHub repository\n",
    "url = 'https://raw.githubusercontent.com/Azubi-Africa/Career_Accelerator_LP1-Data_Analysis/main/startup_funding2018.csv'\n",
    "\n",
    "# Use pandas to load the csv file\n",
    "data_2018 = pd.read_csv(url)"
   ]
  },
  {
   "cell_type": "code",
   "execution_count": null,
   "id": "95a9582b",
   "metadata": {},
   "outputs": [],
   "source": [
    "# Display head\n",
    "data_2018.head()"
   ]
  },
  {
   "cell_type": "code",
   "execution_count": null,
   "id": "7efdd76a",
   "metadata": {},
   "outputs": [],
   "source": [
    "# Add year column\n",
    "Year = 2018\n",
    "data_2018['Year'] = Year"
   ]
  },
  {
   "cell_type": "code",
   "execution_count": null,
   "id": "fa1ba22e",
   "metadata": {},
   "outputs": [],
   "source": [
    "data_2018.info()"
   ]
  },
  {
   "cell_type": "code",
   "execution_count": null,
   "id": "16c3b53a",
   "metadata": {},
   "outputs": [],
   "source": [
    "data_2018.shape"
   ]
  },
  {
   "cell_type": "code",
   "execution_count": null,
   "id": "3aa8ab61",
   "metadata": {},
   "outputs": [],
   "source": [
    "# Load from OneDrive source\n",
    "\n",
    "# Use pandas to load the csv file\n",
    "data_2019 = pd.read_csv('Dataset\\startup_funding2019.csv')\n",
    "\n",
    "# Display head\n",
    "data_2019.head() "
   ]
  },
  {
   "cell_type": "code",
   "execution_count": null,
   "id": "b975e2d2",
   "metadata": {},
   "outputs": [],
   "source": [
    "# Add year column\n",
    "\n",
    "Year = 2019\n",
    "data_2019['Year'] = Year"
   ]
  },
  {
   "cell_type": "code",
   "execution_count": null,
   "id": "4776e0a5",
   "metadata": {},
   "outputs": [],
   "source": [
    "data_2019.shape"
   ]
  },
  {
   "cell_type": "code",
   "execution_count": null,
   "id": "a3b97062",
   "metadata": {},
   "outputs": [],
   "source": [
    "data_2019.info()"
   ]
  },
  {
   "cell_type": "code",
   "execution_count": null,
   "id": "9a4a2977",
   "metadata": {},
   "outputs": [],
   "source": [
    "# Load from SQL Database source\n",
    "\n",
    "# Load environment variables from .env file into a dictionary\n",
    "environment_variables  = dotenv_values('.env')\n",
    "\n",
    "# Get the values for the credentials you set in the '.env' file\n",
    "database = environment_variables.get(\"DATABASE\")\n",
    "server = environment_variables.get(\"SERVER\")\n",
    "username = environment_variables.get(\"USERNAME\")\n",
    "password = environment_variables.get(\"PASSWORD\")"
   ]
  },
  {
   "cell_type": "code",
   "execution_count": null,
   "id": "01135f2e",
   "metadata": {},
   "outputs": [],
   "source": [
    "\n",
    "# Your connection string\n",
    "connection_string = f\"Driver={{SQL Server}}; SERVER={server}; DATABASE={database}; UID={username}; PWD={password}\"\n",
    "\n",
    "# Create a new connection\n",
    "connection = pyodbc.connect(connection_string)\n",
    "\n",
    "# Now you can use `connection` to interact with your database\n"
   ]
  },
  {
   "cell_type": "code",
   "execution_count": null,
   "id": "a14f5e9a",
   "metadata": {},
   "outputs": [],
   "source": [
    "# Create a connection string\n",
    "\n",
    "connection_string = f\"Driver={{SQL Server}}; SERVER={server}; DATABASE={database}; UID={username}; PWD={password}\""
   ]
  },
  {
   "cell_type": "code",
   "execution_count": null,
   "id": "eb92a459",
   "metadata": {},
   "outputs": [],
   "source": [
    "# Use the connect method of the pyodbc library and pass in the connection string.\n",
    "\n",
    "connection = pyodbc.connect(connection_string)"
   ]
  },
  {
   "cell_type": "code",
   "execution_count": null,
   "id": "77d96daa",
   "metadata": {},
   "outputs": [],
   "source": [
    "# SQL query to extract the data from Table1 \n",
    "query_2020 = \"SELECT * from dbo.LP1_startup_funding2020\"\n",
    " \n",
    " # Execute the SQL query to load data from Table1 into pandas Dataframe\n",
    "data_2020= pd.read_sql(query_2020, connection)\n",
    "\n",
    " # SQL query to extract the data from Table2\n",
    "query_2021 = \"SELECT * from dbo.LP1_startup_funding2021\"\n",
    "\n",
    " # Execute the SQL query to load data from Table2 into pandas Dataframe\n",
    "data_2021 = pd.read_sql(query_2021, connection)"
   ]
  },
  {
   "cell_type": "code",
   "execution_count": null,
   "id": "6cb87425",
   "metadata": {},
   "outputs": [],
   "source": [
    "data_2020.head()"
   ]
  },
  {
   "cell_type": "code",
   "execution_count": null,
   "id": "df47abe2",
   "metadata": {},
   "outputs": [],
   "source": [
    "# Add year column\n",
    "\n",
    "Year = 2020\n",
    "data_2020['Year'] = Year"
   ]
  },
  {
   "cell_type": "code",
   "execution_count": null,
   "id": "17068643",
   "metadata": {},
   "outputs": [],
   "source": [
    "data_2020.shape"
   ]
  },
  {
   "cell_type": "code",
   "execution_count": null,
   "id": "9e191065",
   "metadata": {},
   "outputs": [],
   "source": [
    "data_2020.info()"
   ]
  },
  {
   "cell_type": "code",
   "execution_count": null,
   "id": "6cd7eefe",
   "metadata": {},
   "outputs": [],
   "source": [
    "data_2021.head()"
   ]
  },
  {
   "cell_type": "code",
   "execution_count": null,
   "id": "0fb8f902",
   "metadata": {},
   "outputs": [],
   "source": [
    "# Add year column\n",
    "Year = 2021\n",
    "data_2021['Year'] = Year"
   ]
  },
  {
   "cell_type": "code",
   "execution_count": null,
   "id": "3454301e",
   "metadata": {},
   "outputs": [],
   "source": [
    "data_2021.shape"
   ]
  },
  {
   "cell_type": "code",
   "execution_count": null,
   "id": "477fc298",
   "metadata": {},
   "outputs": [],
   "source": [
    "data_2021.info()"
   ]
  },
  {
   "cell_type": "markdown",
   "id": "6960c32c",
   "metadata": {},
   "source": [
    "### Action Plan\n",
    "- Understand the Dataset: Familiarize yourself with the dataset. Understand what each column represents, the data types of each column, and how the data is structured.\n",
    "- Define the Objective: Clearly define what you want to achieve from the analysis of the dataset. This will help you identify which data is relevant.\n",
    "- Identify the Issues: Look for common data issues such as missing values, inconsistent data types, outliers, duplicate rows, inaccurate data, and irrelevant data. This can be done by visual inspection or by using functions that summarize the dataset.\n",
    "- Plan Your Cleaning Process: Based on the issues identified, plan how to clean the data. This could involve deciding on how to handle missing data, whether to remove outliers, how to deal with duplicate or irrelevant data, etc.\n",
    "- Backup the Dataset: Always make a copy of the original dataset before cleaning. \n"
   ]
  },
  {
   "cell_type": "markdown",
   "id": "f915e81b",
   "metadata": {},
   "source": [
    "### Hypothesis Test\n",
    "\n",
    "***Null Hypothesis (H0):*** There is no difference in the amount of funding received by start-ups across different sectors.\n",
    "\n",
    "***Alternative Hypothesis (H1):*** There is a difference in the amount of funding received by start-ups across different sectors.\n"
   ]
  },
  {
   "cell_type": "markdown",
   "id": "cde1361a",
   "metadata": {},
   "source": [
    "\n",
    "\n",
    "\n",
    "### Questions\n",
    "\n",
    "1 - How has the funding trend for Indian start-ups changed from 2018 to 2021? \n",
    "\n",
    "2 - Which sectors or industries received the most funding? \n",
    "\n",
    "3 - Who are the major investors in the Indian start-up ecosystem?\n",
    "\n",
    "4 - Are there any specific cities in India that are attracting more start-ups than the others?\n",
    "\n",
    "5 - Which cities in India have attracted the most funding?\n",
    "\n",
    "6 - Which start-ups have shown the most growth in terms of funding received over the years?"
   ]
  },
  {
   "cell_type": "markdown",
   "id": "2f19e53d",
   "metadata": {},
   "source": [
    "## Data Preprocessing"
   ]
  },
  {
   "cell_type": "code",
   "execution_count": null,
   "id": "b0a990b8",
   "metadata": {},
   "outputs": [],
   "source": [
    "# We are renaming the columns in the dataframe 'data_2018'\n",
    "data_2018.rename(\n",
    "    columns={\n",
    "        'Company Name': 'Company_Brand',  # Changing 'Company Name' to 'Company_Brand'\n",
    "        'Industry': 'Sector',  # Changing 'Industry' to 'Sector'\n",
    "        'Round/Series': 'Stage',  # Changing 'Round/Series' to 'Stage'\n",
    "        'Amount': 'Amount($)',  # Changing 'Amount' to 'Amount($)'\n",
    "        'Location': 'HeadQuarter',  # Changing 'Location' to 'HeadQuarter'\n",
    "        'About Company': 'What_it_does'  # Changing 'About Company' to 'What_it_does'\n",
    "        # Add more column changes as needed\n",
    "    },\n",
    "    inplace=True  # This will modify 'dat_3' directly\n",
    ")"
   ]
  },
  {
   "cell_type": "code",
   "execution_count": null,
   "id": "2d996959",
   "metadata": {},
   "outputs": [],
   "source": [
    "# We are renaming the columns in the dataframe 'data_2019'\n",
    "data_2019.rename(\n",
    "    columns={\n",
    "        'Company/Brand': 'Company_Brand',  # Changing 'Company Name' to 'Company_Brand'\n",
    "        'What it does': 'What_it_does'  # Changing 'About Company' to 'What_it_does'\n",
    "        # Add more column changes as needed\n",
    "    },\n",
    "    inplace=True  # This will modify 'dat_3' directly\n",
    ")"
   ]
  },
  {
   "cell_type": "code",
   "execution_count": null,
   "id": "9785b3ff",
   "metadata": {},
   "outputs": [],
   "source": [
    "# We are renaming the columns in the dataframe 'data_2020'\n",
    "data_2020.rename(\n",
    "    columns={\n",
    "        'Amount': 'Amount($)',  # Changing 'Amount' to 'Amount($)'\n",
    "    },\n",
    "    inplace=True  # This will modify 'dat_3' directly\n",
    ")"
   ]
  },
  {
   "cell_type": "code",
   "execution_count": null,
   "id": "2338ac81",
   "metadata": {},
   "outputs": [],
   "source": [
    "# We are renaming the columns in the dataframe 'data_2021'\n",
    "data_2021.rename(\n",
    "    columns={\n",
    "        'Amount': 'Amount($)',  # Changing 'Amount' to 'Amount($)'\n",
    "    },\n",
    "    inplace=True  # This will modify 'dat_3' directly\n",
    ")"
   ]
  },
  {
   "cell_type": "code",
   "execution_count": null,
   "id": "64ac9fb5",
   "metadata": {},
   "outputs": [],
   "source": [
    "data_2018.head()"
   ]
  },
  {
   "cell_type": "code",
   "execution_count": null,
   "id": "24278cd3",
   "metadata": {},
   "outputs": [],
   "source": [
    "data_2019.head()"
   ]
  },
  {
   "cell_type": "code",
   "execution_count": null,
   "id": "02e0bf32",
   "metadata": {},
   "outputs": [],
   "source": [
    "data_2020.head()"
   ]
  },
  {
   "cell_type": "code",
   "execution_count": null,
   "id": "467a57b8",
   "metadata": {},
   "outputs": [],
   "source": [
    "data_2021.head()"
   ]
  },
  {
   "cell_type": "code",
   "execution_count": null,
   "id": "bb311541",
   "metadata": {},
   "outputs": [],
   "source": [
    "# Concatenate data into a single Dataframe\n",
    "\n",
    "concatenated_data = pd.concat([data_2018, data_2019, data_2020, data_2021], ignore_index=True)"
   ]
  },
  {
   "cell_type": "code",
   "execution_count": null,
   "id": "1651e8d2",
   "metadata": {},
   "outputs": [],
   "source": [
    "concatenated_data.to_csv(\"Indian_start-ups.csv\")"
   ]
  },
  {
   "cell_type": "code",
   "execution_count": null,
   "id": "b2ff9429",
   "metadata": {},
   "outputs": [],
   "source": [
    "df = pd.read_csv(\"Indian_start-ups.csv\")"
   ]
  },
  {
   "cell_type": "code",
   "execution_count": null,
   "id": "058a0724",
   "metadata": {},
   "outputs": [],
   "source": [
    "df.head()"
   ]
  },
  {
   "cell_type": "code",
   "execution_count": null,
   "id": "0db81fb4",
   "metadata": {},
   "outputs": [],
   "source": [
    "df.shape"
   ]
  },
  {
   "cell_type": "code",
   "execution_count": null,
   "id": "a0813a3d",
   "metadata": {},
   "outputs": [],
   "source": [
    "# Display the full summary of the dataset\n",
    "df.info()"
   ]
  },
  {
   "cell_type": "code",
   "execution_count": null,
   "id": "949f7639",
   "metadata": {},
   "outputs": [],
   "source": [
    "# Check column names\n",
    "df.columns"
   ]
  },
  {
   "cell_type": "code",
   "execution_count": null,
   "id": "bdc3ded7",
   "metadata": {},
   "outputs": [],
   "source": [
    "# Check Null Values\n",
    "df.isnull().any()"
   ]
  },
  {
   "cell_type": "code",
   "execution_count": null,
   "id": "9cffa54a",
   "metadata": {},
   "outputs": [],
   "source": [
    "df.isnull().sum()"
   ]
  },
  {
   "cell_type": "code",
   "execution_count": null,
   "id": "f0aabb17",
   "metadata": {},
   "outputs": [],
   "source": [
    "# Check for duplicated values\n",
    "df.duplicated().sum()"
   ]
  },
  {
   "cell_type": "markdown",
   "id": "9800bed2",
   "metadata": {},
   "source": [
    "# Data Cleaning"
   ]
  },
  {
   "cell_type": "markdown",
   "id": "70e7f703",
   "metadata": {},
   "source": [
    "Remove '#REF!' in random column values from concatenated data\n"
   ]
  },
  {
   "cell_type": "code",
   "execution_count": null,
   "id": "51deca69",
   "metadata": {},
   "outputs": [],
   "source": [
    "# Function to remove '#REF!' from all columns\n",
    "def remove_ref(value):\n",
    "    if isinstance(value, str):\n",
    "        value = value.replace('#REF!', \"\")\n",
    "    return value\n",
    "\n",
    "# Apply the function to all columns\n",
    "df = df.applymap(remove_ref) # element-wise\n"
   ]
  },
  {
   "cell_type": "markdown",
   "id": "68091c81",
   "metadata": {},
   "source": [
    "Replace 'None' string values with NaN element-wise allowing for consistent\n",
    "representation of missing values"
   ]
  },
  {
   "cell_type": "code",
   "execution_count": null,
   "id": "68e1c766",
   "metadata": {},
   "outputs": [],
   "source": [
    "# Function replace None with NaN\n",
    "def replace_none(value):\n",
    "    if isinstance(value, str) and (value.lower() == 'none' or value. lower() == 'nan'):\n",
    "        value = np.nan\n",
    "\n",
    "    return value\n",
    "\n",
    "# Apply the function to all columns\n",
    "df = df.applymap(replace_none) # element-wise"
   ]
  },
  {
   "cell_type": "markdown",
   "id": "56215374",
   "metadata": {},
   "source": [
    "If a value in stage column is a website link, its correct value is NaN\n",
    "\n",
    "Website link in stage column is https://docs.google.com/spreadsheets/d/1x9ziNeaz6auNChlHnMI8U6kS7knTr3byy_YBGfQaoUA/edit#gid=1861303593"
   ]
  },
  {
   "cell_type": "code",
   "execution_count": null,
   "id": "5f3787b1",
   "metadata": {},
   "outputs": [],
   "source": [
    "# display duplicates\n",
    "df.duplicated()"
   ]
  },
  {
   "cell_type": "code",
   "execution_count": null,
   "id": "485310f2",
   "metadata": {},
   "outputs": [],
   "source": [
    "# Drop duplicates\n",
    "df = df.drop_duplicates()\n",
    "df.head()"
   ]
  },
  {
   "cell_type": "markdown",
   "id": "41a9beac",
   "metadata": {},
   "source": [
    "Decision to drop column10 was due to the column having only two(2) non-null values and a couple of repeated values from the Stage column"
   ]
  },
  {
   "cell_type": "code",
   "execution_count": null,
   "id": "1163124d",
   "metadata": {},
   "outputs": [],
   "source": [
    "df = df.drop(columns=['column10', 'Unnamed: 0.1', 'Unnamed: 0'])\n"
   ]
  },
  {
   "cell_type": "code",
   "execution_count": null,
   "id": "4f1d6524",
   "metadata": {},
   "outputs": [],
   "source": [
    "# Disply head \n",
    "df.head()"
   ]
  },
  {
   "cell_type": "markdown",
   "id": "b03f069a",
   "metadata": {},
   "source": [
    "### Clean Company Brand column"
   ]
  },
  {
   "cell_type": "code",
   "execution_count": null,
   "id": "2a827a7b",
   "metadata": {},
   "outputs": [],
   "source": [
    "df['Company_Brand']"
   ]
  },
  {
   "cell_type": "code",
   "execution_count": null,
   "id": "7a0b6719",
   "metadata": {},
   "outputs": [],
   "source": [
    "# Remove leading and trailing characters and replace text with some other text\n",
    "df['Company_Brand'] = df['Company_Brand'].str.strip()\n",
    "df['Company_Brand'] = df['Company_Brand'].str.replace('[^\\w\\s]','')\n",
    "df['Company_Brand'] = df['Company_Brand'].str.replace('\\s+', ' ')\n"
   ]
  },
  {
   "cell_type": "code",
   "execution_count": null,
   "metadata": {},
   "outputs": [],
   "source": [
    "df"
   ]
  },
  {
   "cell_type": "markdown",
   "id": "4a1c64b0",
   "metadata": {},
   "source": [
    "### Clean Sector column"
   ]
  },
  {
   "cell_type": "code",
   "execution_count": null,
   "id": "ae7e5dc4",
   "metadata": {},
   "outputs": [],
   "source": [
    "# Remove leading and trailing characters and replace text with some other text\n",
    "df['Sector'] = df['Sector'].str.strip()\n",
    "df['Sector'] = df['Sector'].str.replace('[^\\w\\s]','')\n",
    "df['Sector'] = df['Sector'].str.replace('\\s+', ' ')\n"
   ]
  },
  {
   "cell_type": "code",
   "execution_count": null,
   "id": "494d0320",
   "metadata": {},
   "outputs": [],
   "source": [
    "# Replaces any missing values in the 'Sector' column with 'Unknown'\n",
    "df['Sector'] = df['Sector'].fillna('Others')\n"
   ]
  },
  {
   "cell_type": "code",
   "execution_count": null,
   "id": "98abd3c5",
   "metadata": {},
   "outputs": [],
   "source": [
    "# This code returns all unique values in the 'Sector' column.\n",
    "df['Sector'].unique()\n"
   ]
  },
  {
   "cell_type": "code",
   "execution_count": null,
   "id": "b8d463cb",
   "metadata": {},
   "outputs": [],
   "source": [
    "# This code standardizes sector names in a DataFrame based on certain keywords.\n",
    "import re\n",
    "\n",
    "def standardize_sectors(sector):\n",
    "    if re.search('finance|banking|insurance|fintech|Financial Services|Financial Technology|Mobile Payments', sector, re.IGNORECASE):\n",
    "        return 'Finance'\n",
    "    elif re.search('agriculture|farming|fish|milk|diary|dairy|dairy startup', sector, re.IGNORECASE):\n",
    "        return 'Agriculture'\n",
    "    elif re.search('education|edtech|E-commerce', sector, re.IGNORECASE):\n",
    "        return 'Education'\n",
    "    elif re.search('Healthcare Services|Hospital|Medical|Pharmaceutical|Nutrition|Diagnostics|Fitness|Public Safety|Health Tech|Wellness', sector, re.IGNORECASE):\n",
    "        return 'Healthcare'\n",
    "    elif re.search('Home|Decor|Interior Design|Interior|Smart Home|Renovation', sector, re.IGNORECASE):\n",
    "        return 'RealEstate'\n",
    "    elif re.search('Retail|E-commerce', sector, re.IGNORECASE):\n",
    "        return 'Retail'\n",
    "    elif re.search('Aviation|Aerospace', sector, re.IGNORECASE):\n",
    "        return 'Aviation'\n",
    "    elif re.search('Energy|Renewable Energy|Clean Energy|Solar|', sector, re.IGNORECASE):\n",
    "        return 'Energy'\n",
    "    elif re.search('Internet|Information|Messaging|Personalization|Test and Measurement|Technology|CleanTech|Mobile|Apps|Developer|Cloud|Artififial|PaaS|SaaS', sector, re.IGNORECASE):\n",
    "        return 'IT'\n",
    "    elif re.search('Marketing|Promotion|Event|Market', sector, re.IGNORECASE):\n",
    "        return 'Marketing'\n",
    "    elif re.search('Consumer|Food|Beverage|Tea|Snack', sector, re.IGNORECASE):\n",
    "        return 'Consumables'\n",
    "    elif re.search('Media and Entertainment|News|Outdoors|Sports|Product studio|Broadcasting|Media and Entertainment|Music|Music Streaming|Video|Video Streaming', sector, re.IGNORECASE):\n",
    "        return 'Media and Entertainment'\n",
    "    elif re.search(\"Men's|Shoes|Fashion|Laundry and Dry-cleaning\", sector, re.IGNORECASE):\n",
    "        return 'Lifestyle'\n",
    "    elif re.search('Coworking|Incubators|Recruiting|Staffing|Consulting', sector, re.IGNORECASE):\n",
    "        return 'HR'\n",
    "    elif re.search('Automotive|Auto|Engine|Automotion', sector, re.IGNORECASE):\n",
    "        return 'Automotive'\n",
    "    elif re.search('Logistics|Transportation|Travel|Freight|Supply Chain', sector, re.IGNORECASE):\n",
    "        return 'Logistics'\n",
    "    elif re.search('Others', sector, re.IGNORECASE):\n",
    "        return 'Others'\n",
    "    # Add more conditions here to handle other sectors\n",
    "    else:\n",
    "        return sector  # If no conditions match, return the original sector\n",
    "\n",
    "# Apply the function to the Sector column\n",
    "df['Sector'] = df['Sector'].apply(standardize_sectors)\n"
   ]
  },
  {
   "cell_type": "code",
   "execution_count": null,
   "id": "e573d5a0",
   "metadata": {},
   "outputs": [],
   "source": [
    "# Display the updated DataFrame\n",
    "df[df['Sector'] .isnull()]"
   ]
  },
  {
   "cell_type": "markdown",
   "id": "3e81375e",
   "metadata": {},
   "source": [
    "### Clean stage column"
   ]
  },
  {
   "cell_type": "code",
   "execution_count": null,
   "id": "4986f679",
   "metadata": {},
   "outputs": [],
   "source": [
    "df['Stage'].unique()"
   ]
  },
  {
   "cell_type": "markdown",
   "id": "6d98d9a5",
   "metadata": {},
   "source": [
    "If a value in stage column is a website link, its correct value is NaN\n",
    "\n",
    "Website link in stage column is https://docs.google.com/spreadsheets/d/1x9ziNeaz6auNChlHnMI8U6kS7knTr3byy_YBGfQaoUA/edit#gid=1861303593"
   ]
  },
  {
   "cell_type": "code",
   "execution_count": null,
   "id": "5df6cceb",
   "metadata": {},
   "outputs": [],
   "source": [
    "def remove_website_link(value):\n",
    "    # Regular expression pattern to match website URLs that begin with http:// or https:// with an optional www\n",
    "    pattern = r'https?://(?:www\\.)?\\w+\\.\\w+(?:/\\S*)?'\n",
    "\n",
    "    # Check if the value is a string and matches the pattern\n",
    "    if isinstance(value, str) and re.match(pattern, value):\n",
    "        return np.nan\n",
    "    else:\n",
    "        return value"
   ]
  },
  {
   "cell_type": "code",
   "execution_count": null,
   "id": "c7a2c40b",
   "metadata": {},
   "outputs": [],
   "source": [
    "# Remove website link values from the stage column\n",
    "df['Stage'] = df['Stage'].apply(remove_website_link)\n"
   ]
  },
  {
   "cell_type": "markdown",
   "id": "a54ce114",
   "metadata": {},
   "source": [
    "If the 'stage' value is a number or contains $, the column 'what_it does' becomes its\n",
    "old value concatenated with the value in the 'founder' column. The correct value for\n",
    "'founder' is the 'investor' value and the correct value for 'investor' is the 'amount'\n",
    "value and correct 'amount' becomes the old 'stage' value while the correct value for\n",
    "'stage' is NaN or missing."
   ]
  },
  {
   "cell_type": "code",
   "execution_count": null,
   "id": "8798db12",
   "metadata": {},
   "outputs": [],
   "source": [
    "# Function to check if a value is numeric\n",
    "def is_numeric(value):\n",
    "    try:\n",
    "        float(value)\n",
    "        return True\n",
    "    except ValueError:\n",
    "        return False\n",
    "\n",
    "# Identify rows where 'Stage' value is numeric\n",
    "mask = df['Stage'].apply(is_numeric)\n",
    "\n",
    "# Update the 'What_it_does' column to its concatenation with 'Founders' value\n",
    "old_What_it_does = df.loc[mask, 'What_it_does']\n",
    "old_Founders = df.loc[mask, 'Founders']\n",
    "\n",
    "df.loc[mask, 'What_it_does'] = old_What_it_does.fillna('') + ' ' + old_Founders.fillna('')\n",
    "\n",
    "# Update 'Founders' column using the old 'Investor' value\n",
    "df.loc[mask, 'Founders'] = df.loc[mask, 'Investor']\n",
    "\n",
    "# Update 'Investor' column using the old 'Amount($)' value\n",
    "df.loc[mask, 'Investor'] = df.loc[mask, 'Amount($)']\n",
    "\n",
    "# Update 'Amount($)' column using the old 'Stage' value\n",
    "df.loc[mask, 'Amount($)'] = df.loc[mask, 'Stage']\n",
    "\n",
    "# Set 'Stage' to NaN\n",
    "df.loc[mask, 'Stage'] = np.nan\n"
   ]
  },
  {
   "cell_type": "code",
   "execution_count": null,
   "id": "c6383d20",
   "metadata": {},
   "outputs": [],
   "source": [
    "# Replaces any missing values in the 'Stage' column with 'Unknown'\n",
    "df['Stage'] = df['Stage'].fillna('Unknown')"
   ]
  },
  {
   "cell_type": "code",
   "execution_count": null,
   "id": "379b2449",
   "metadata": {},
   "outputs": [],
   "source": [
    "# Display rows where the 'Stage' column contains NaN values\n",
    "df[pd.isna(df['Stage'])]"
   ]
  },
  {
   "cell_type": "code",
   "execution_count": null,
   "id": "dde69700",
   "metadata": {},
   "outputs": [],
   "source": [
    "df"
   ]
  },
  {
   "cell_type": "markdown",
   "id": "949a0292",
   "metadata": {},
   "source": [
    "### Clean Amount column"
   ]
  },
  {
   "cell_type": "code",
   "execution_count": null,
   "id": "d89ab5d6",
   "metadata": {},
   "outputs": [],
   "source": [
    "df['Amount($)'].unique()"
   ]
  },
  {
   "cell_type": "code",
   "execution_count": null,
   "id": "58f1ac15",
   "metadata": {},
   "outputs": [],
   "source": [
    "df['Amount($)'].nunique()"
   ]
  },
  {
   "cell_type": "markdown",
   "id": "66f80a6c",
   "metadata": {},
   "source": [
    "Convert rupees to dollars with the average exchange rate for 2018"
   ]
  },
  {
   "cell_type": "code",
   "execution_count": null,
   "id": "54b75e3e",
   "metadata": {},
   "outputs": [],
   "source": [
    "\n",
    "# Function to convert a string to float\n",
    "def floater(string):\n",
    "    try:\n",
    "        return float(string)\n",
    "    except ValueError:\n",
    "        return np.nan\n",
    "\n",
    "# Function to clean amount values\n",
    "def clean_amount(amount):\n",
    "    if isinstance(amount, str):\n",
    "        # Remove any spaces\n",
    "        amount = amount.replace(' ', '')\n",
    "        # Remove commas\n",
    "        amount = amount.replace(',', '')\n",
    "\n",
    "        if amount == '' or amount == '-':\n",
    "            amount = np.nan\n",
    "        # If the amount is in INR (Indian Rupees), convert it to USD using the conversion rate of 1 INR = 0.01461 USD\n",
    "        elif '₹' in amount:\n",
    "            amount = amount.replace('₹', '' )\n",
    "            amount = floater(amount) * 0.01461\n",
    "        # If the amount is in USD, remove the '$' symbol and convert it to a float\n",
    "        elif '$' in amount:\n",
    "            amount = amount.replace('$', '')\n",
    "            amount = floater(amount)\n",
    "        else:\n",
    "            amount = floater(amount)\n",
    "\n",
    "    return amount\n"
   ]
  },
  {
   "cell_type": "markdown",
   "id": "b1ca687e",
   "metadata": {},
   "source": [
    "If the investor value is a number or contains $, the correct value for amount if missing\n",
    "is the investor value, the correct value for stage is the old amount value and the\n",
    "investor value becomes NaN or missing\n"
   ]
  },
  {
   "cell_type": "code",
   "execution_count": null,
   "id": "0f601925",
   "metadata": {},
   "outputs": [],
   "source": [
    "# Identify rows where 'investor' value is numeric using clean_amount function\n",
    "mask = df['Investor'].apply(lambda x: pd.notna(clean_amount(x)))\n",
    "\n",
    "# Update 'stage' column with the 'amount' value if stage is NaN\n",
    "stage_mask = df['Stage'].isna()\n",
    "df.loc[mask & stage_mask, 'Stage'] = df.loc[mask, 'Amount($)']\n",
    "\n",
    "# Update 'amount' column with 'investor' value\n",
    "df.loc[mask, 'Amount($)'] = df.loc[mask, 'Investor']\n",
    "\n",
    "# Set 'investor' to NaN\n",
    "df.loc[mask, 'Investor'] = np.nan\n"
   ]
  },
  {
   "cell_type": "markdown",
   "id": "a6456dc9",
   "metadata": {},
   "source": [
    "Clean and convert amounts to USD \n",
    "\n"
   ]
  },
  {
   "cell_type": "code",
   "execution_count": null,
   "id": "6353971d",
   "metadata": {},
   "outputs": [],
   "source": [
    "# Clean and convert amounts to USD\n",
    "df['Amount($)'] = [clean_amount(amount) for amount in df['Amount($)']]\n"
   ]
  },
  {
   "cell_type": "markdown",
   "id": "8041f23f",
   "metadata": {},
   "source": [
    "Replace falsely unique values or actual duplicates in categorical and string columns\n",
    "with their first occurence in the final_dataset"
   ]
  },
  {
   "cell_type": "code",
   "execution_count": null,
   "id": "654330ec",
   "metadata": {},
   "outputs": [],
   "source": [
    "# Heuristic Function to replace actual duplicates with first occurrence\n",
    "def replace_col_duplicates(column):\n",
    "    \"\"\" \n",
    "        Replaces duplicates values (identified through some heuristics) in a column with their first occurrence\n",
    "        Although the first occurrence might not be the best representation but it allows for consistency in values\n",
    "        Although the first occurrence might not be the best representation but it allows for consistency in values\n",
    "        \n",
    "        Parameter: column\n",
    "        Returns : column with consistent representation of values\n",
    "\n",
    "    \"\"\"\n",
    "    actual_strings = {} # Dictionary to store the first occurrence of each modified string\n",
    "\n",
    "    def replace_string(string):\n",
    "        actual_string = re.sub(r'[^\\w]', '', string).lower() if isinstance(string, str) else string # Replace all special characters including whitespaces\n",
    "        if actual_string in actual_strings:\n",
    "            return actual_strings[actual_string]\n",
    "        else:\n",
    "            actual_strings[actual_string] = string\n",
    "            return string\n",
    "    return column.apply(replace_string)"
   ]
  },
  {
   "cell_type": "code",
   "execution_count": null,
   "id": "4976813e",
   "metadata": {},
   "outputs": [],
   "source": [
    "# Ensure the 'Amount' column is of type string\n",
    "df['Amount($)'] = df['Amount($)'].astype(str)\n",
    "\n",
    "df['Amount($)'] = df['Amount($)'].astype(float)\n",
    "\n",
    "# Add a dollar sign to the start of each value in the 'Amount' column\n",
    "df['Amount($)'] = df['Amount($)'].apply(lambda x: f\"${x}\")\n"
   ]
  },
  {
   "cell_type": "code",
   "execution_count": null,
   "id": "90111196",
   "metadata": {},
   "outputs": [],
   "source": [
    "pd.set_option('display.float_format', lambda x: '%.2f' % x)"
   ]
  },
  {
   "cell_type": "code",
   "execution_count": null,
   "id": "5c476024",
   "metadata": {},
   "outputs": [],
   "source": [
    "df['Amount($)'] = df['Amount($)'].str.replace('$', '')\n",
    "df['Amount($)'] = df['Amount($)'].str.replace(',', '')\n",
    "df['Amount($)'] = df['Amount($)'].astype(float)\n"
   ]
  },
  {
   "cell_type": "code",
   "execution_count": null,
   "id": "d720cd9e",
   "metadata": {},
   "outputs": [],
   "source": [
    "df[pd.isna(df['Amount($)'])]"
   ]
  },
  {
   "cell_type": "code",
   "execution_count": null,
   "id": "ac04c31a",
   "metadata": {},
   "outputs": [],
   "source": [
    "\n",
    "# df['Amount($)'] = df['Amount($)'].replace('—', np.nan)\n",
    "# df['Amount($)'] = df['Amount($)'].str.replace('$', '')\n",
    "# df['Amount($)'] = df['Amount($)'].str.replace('₹', '')\n",
    "# df['Amount($)'] = df['Amount($)'].str.replace(',', '')\n",
    "# df = df[df['Amount($)'] != 'Upsparks']\n",
    "\n",
    "# #df['Amount($)'] = df['Amount($)'].replace('Undisclosed', np.nan)\n",
    "# #df['Amount($)'] = pd.to_numeric(df['Amount($)'])\n"
   ]
  },
  {
   "cell_type": "code",
   "execution_count": null,
   "id": "c9cfd1c5",
   "metadata": {},
   "outputs": [],
   "source": [
    "# df_upsparks = df[df['Amount($)'] == 'Undisclosed']\n",
    "# df_upsparks"
   ]
  },
  {
   "cell_type": "code",
   "execution_count": null,
   "id": "49570a48",
   "metadata": {},
   "outputs": [],
   "source": [
    "df\n"
   ]
  },
  {
   "cell_type": "markdown",
   "id": "d5b82ebb",
   "metadata": {},
   "source": [
    "### Clean the HeadQuarter column "
   ]
  },
  {
   "cell_type": "code",
   "execution_count": null,
   "id": "b6ef06b5",
   "metadata": {},
   "outputs": [],
   "source": [
    "df[[\"City\", \"Region\", \"Country\"]]= df[\"HeadQuarter\"].str.split(\",\", expand=True)"
   ]
  },
  {
   "cell_type": "code",
   "execution_count": null,
   "id": "cc6c30aa",
   "metadata": {},
   "outputs": [],
   "source": [
    "df.tail()"
   ]
  },
  {
   "cell_type": "code",
   "execution_count": null,
   "id": "7f70c0b1",
   "metadata": {},
   "outputs": [],
   "source": [
    "df = df.drop(columns=['Region', 'Country'])\n"
   ]
  },
  {
   "cell_type": "code",
   "execution_count": null,
   "id": "151d75e2",
   "metadata": {},
   "outputs": [],
   "source": [
    "def move_column(df, col, pos):\n",
    "    col_series = df[col]\n",
    "    df.drop(columns=[col], inplace=True)\n",
    "    df.insert(loc=pos, column=col, value=col_series)\n",
    "\n",
    "move_column(df, 'City', 4)  # Moves 'my_column' to the first position\n"
   ]
  },
  {
   "cell_type": "code",
   "execution_count": null,
   "metadata": {},
   "outputs": [],
   "source": [
    "df.columns"
   ]
  },
  {
   "cell_type": "code",
   "execution_count": null,
   "id": "3d65cece",
   "metadata": {},
   "outputs": [],
   "source": [
    "df[pd.isna(df['HeadQuarter'])]"
   ]
  },
  {
   "cell_type": "markdown",
   "id": "1cd16422",
   "metadata": {},
   "source": [
    "### Clean Year column"
   ]
  },
  {
   "cell_type": "code",
   "execution_count": null,
   "id": "c73e3ee6",
   "metadata": {},
   "outputs": [],
   "source": [
    "# This line of code returns all unique values in the 'Year' column of the dataframe 'df'\n",
    "df['Year'].unique()\n"
   ]
  },
  {
   "cell_type": "markdown",
   "id": "42d7b408",
   "metadata": {},
   "source": [
    "### Clean Founded column"
   ]
  },
  {
   "cell_type": "code",
   "execution_count": null,
   "id": "1f780d52",
   "metadata": {},
   "outputs": [],
   "source": [
    "# This line of code returns all unique values in the 'Founded' column of the dataframe 'df'\n",
    "df['Founded'].unique()\n"
   ]
  },
  {
   "cell_type": "code",
   "execution_count": null,
   "id": "cd63943f",
   "metadata": {},
   "outputs": [],
   "source": [
    "# Convert the 'Founded' column in the dataframe 'df' to datetime format\n",
    "df['Founded'] = pd.to_datetime(df['Founded'], format='%Y', errors='coerce')\n",
    "\n",
    "# Extract the year from the 'Founded' column and assign it back to the same column\n",
    "df['Founded'] = df['Founded'].dt.year\n"
   ]
  },
  {
   "cell_type": "code",
   "execution_count": 121,
   "id": "05d091ff",
   "metadata": {},
   "outputs": [
    {
     "data": {
      "text/html": [
       "<div>\n",
       "<style scoped>\n",
       "    .dataframe tbody tr th:only-of-type {\n",
       "        vertical-align: middle;\n",
       "    }\n",
       "\n",
       "    .dataframe tbody tr th {\n",
       "        vertical-align: top;\n",
       "    }\n",
       "\n",
       "    .dataframe thead th {\n",
       "        text-align: right;\n",
       "    }\n",
       "</style>\n",
       "<table border=\"1\" class=\"dataframe\">\n",
       "  <thead>\n",
       "    <tr style=\"text-align: right;\">\n",
       "      <th></th>\n",
       "      <th>Amount($)</th>\n",
       "      <th>Year</th>\n",
       "      <th>Founded</th>\n",
       "    </tr>\n",
       "  </thead>\n",
       "  <tbody>\n",
       "    <tr>\n",
       "      <th>count</th>\n",
       "      <td>2312.00</td>\n",
       "      <td>2879.00</td>\n",
       "      <td>2110.00</td>\n",
       "    </tr>\n",
       "    <tr>\n",
       "      <th>mean</th>\n",
       "      <td>121254276.40</td>\n",
       "      <td>2020.02</td>\n",
       "      <td>2016.08</td>\n",
       "    </tr>\n",
       "    <tr>\n",
       "      <th>std</th>\n",
       "      <td>3442955125.02</td>\n",
       "      <td>1.09</td>\n",
       "      <td>4.37</td>\n",
       "    </tr>\n",
       "    <tr>\n",
       "      <th>min</th>\n",
       "      <td>876.60</td>\n",
       "      <td>2018.00</td>\n",
       "      <td>1963.00</td>\n",
       "    </tr>\n",
       "    <tr>\n",
       "      <th>25%</th>\n",
       "      <td>1000000.00</td>\n",
       "      <td>2020.00</td>\n",
       "      <td>2015.00</td>\n",
       "    </tr>\n",
       "    <tr>\n",
       "      <th>50%</th>\n",
       "      <td>3000000.00</td>\n",
       "      <td>2020.00</td>\n",
       "      <td>2017.00</td>\n",
       "    </tr>\n",
       "    <tr>\n",
       "      <th>75%</th>\n",
       "      <td>12000000.00</td>\n",
       "      <td>2021.00</td>\n",
       "      <td>2019.00</td>\n",
       "    </tr>\n",
       "    <tr>\n",
       "      <th>max</th>\n",
       "      <td>150000000000.00</td>\n",
       "      <td>2021.00</td>\n",
       "      <td>2021.00</td>\n",
       "    </tr>\n",
       "  </tbody>\n",
       "</table>\n",
       "</div>"
      ],
      "text/plain": [
       "            Amount($)    Year  Founded\n",
       "count         2312.00 2879.00  2110.00\n",
       "mean     121254276.40 2020.02  2016.08\n",
       "std     3442955125.02    1.09     4.37\n",
       "min            876.60 2018.00  1963.00\n",
       "25%        1000000.00 2020.00  2015.00\n",
       "50%        3000000.00 2020.00  2017.00\n",
       "75%       12000000.00 2021.00  2019.00\n",
       "max   150000000000.00 2021.00  2021.00"
      ]
     },
     "execution_count": 121,
     "metadata": {},
     "output_type": "execute_result"
    }
   ],
   "source": [
    "df.describe()"
   ]
  },
  {
   "cell_type": "code",
   "execution_count": 122,
   "id": "59aa0049",
   "metadata": {},
   "outputs": [
    {
     "data": {
      "text/html": [
       "<div>\n",
       "<style scoped>\n",
       "    .dataframe tbody tr th:only-of-type {\n",
       "        vertical-align: middle;\n",
       "    }\n",
       "\n",
       "    .dataframe tbody tr th {\n",
       "        vertical-align: top;\n",
       "    }\n",
       "\n",
       "    .dataframe thead th {\n",
       "        text-align: right;\n",
       "    }\n",
       "</style>\n",
       "<table border=\"1\" class=\"dataframe\">\n",
       "  <thead>\n",
       "    <tr style=\"text-align: right;\">\n",
       "      <th></th>\n",
       "      <th>count</th>\n",
       "      <th>mean</th>\n",
       "      <th>std</th>\n",
       "      <th>min</th>\n",
       "      <th>25%</th>\n",
       "      <th>50%</th>\n",
       "      <th>75%</th>\n",
       "      <th>max</th>\n",
       "    </tr>\n",
       "  </thead>\n",
       "  <tbody>\n",
       "    <tr>\n",
       "      <th>Amount($)</th>\n",
       "      <td>2312.00</td>\n",
       "      <td>121254276.40</td>\n",
       "      <td>3442955125.02</td>\n",
       "      <td>876.60</td>\n",
       "      <td>1000000.00</td>\n",
       "      <td>3000000.00</td>\n",
       "      <td>12000000.00</td>\n",
       "      <td>150000000000.00</td>\n",
       "    </tr>\n",
       "    <tr>\n",
       "      <th>Year</th>\n",
       "      <td>2879.00</td>\n",
       "      <td>2020.02</td>\n",
       "      <td>1.09</td>\n",
       "      <td>2018.00</td>\n",
       "      <td>2020.00</td>\n",
       "      <td>2020.00</td>\n",
       "      <td>2021.00</td>\n",
       "      <td>2021.00</td>\n",
       "    </tr>\n",
       "    <tr>\n",
       "      <th>Founded</th>\n",
       "      <td>2110.00</td>\n",
       "      <td>2016.08</td>\n",
       "      <td>4.37</td>\n",
       "      <td>1963.00</td>\n",
       "      <td>2015.00</td>\n",
       "      <td>2017.00</td>\n",
       "      <td>2019.00</td>\n",
       "      <td>2021.00</td>\n",
       "    </tr>\n",
       "  </tbody>\n",
       "</table>\n",
       "</div>"
      ],
      "text/plain": [
       "            count         mean           std     min        25%        50%  \\\n",
       "Amount($) 2312.00 121254276.40 3442955125.02  876.60 1000000.00 3000000.00   \n",
       "Year      2879.00      2020.02          1.09 2018.00    2020.00    2020.00   \n",
       "Founded   2110.00      2016.08          4.37 1963.00    2015.00    2017.00   \n",
       "\n",
       "                  75%             max  \n",
       "Amount($) 12000000.00 150000000000.00  \n",
       "Year          2021.00         2021.00  \n",
       "Founded       2019.00         2021.00  "
      ]
     },
     "execution_count": 122,
     "metadata": {},
     "output_type": "execute_result"
    }
   ],
   "source": [
    "df.describe().T"
   ]
  },
  {
   "cell_type": "code",
   "execution_count": 123,
   "id": "5c233682",
   "metadata": {},
   "outputs": [
    {
     "data": {
      "text/html": [
       "<div>\n",
       "<style scoped>\n",
       "    .dataframe tbody tr th:only-of-type {\n",
       "        vertical-align: middle;\n",
       "    }\n",
       "\n",
       "    .dataframe tbody tr th {\n",
       "        vertical-align: top;\n",
       "    }\n",
       "\n",
       "    .dataframe thead th {\n",
       "        text-align: right;\n",
       "    }\n",
       "</style>\n",
       "<table border=\"1\" class=\"dataframe\">\n",
       "  <thead>\n",
       "    <tr style=\"text-align: right;\">\n",
       "      <th></th>\n",
       "      <th>count</th>\n",
       "      <th>unique</th>\n",
       "      <th>top</th>\n",
       "      <th>freq</th>\n",
       "      <th>mean</th>\n",
       "      <th>std</th>\n",
       "      <th>min</th>\n",
       "      <th>25%</th>\n",
       "      <th>50%</th>\n",
       "      <th>75%</th>\n",
       "      <th>max</th>\n",
       "    </tr>\n",
       "  </thead>\n",
       "  <tbody>\n",
       "    <tr>\n",
       "      <th>Company_Brand</th>\n",
       "      <td>2879</td>\n",
       "      <td>2214</td>\n",
       "      <td>BharatPe</td>\n",
       "      <td>10</td>\n",
       "      <td>NaN</td>\n",
       "      <td>NaN</td>\n",
       "      <td>NaN</td>\n",
       "      <td>NaN</td>\n",
       "      <td>NaN</td>\n",
       "      <td>NaN</td>\n",
       "      <td>NaN</td>\n",
       "    </tr>\n",
       "    <tr>\n",
       "      <th>Sector</th>\n",
       "      <td>2879</td>\n",
       "      <td>8</td>\n",
       "      <td>Energy</td>\n",
       "      <td>1849</td>\n",
       "      <td>NaN</td>\n",
       "      <td>NaN</td>\n",
       "      <td>NaN</td>\n",
       "      <td>NaN</td>\n",
       "      <td>NaN</td>\n",
       "      <td>NaN</td>\n",
       "      <td>NaN</td>\n",
       "    </tr>\n",
       "    <tr>\n",
       "      <th>Stage</th>\n",
       "      <td>2879</td>\n",
       "      <td>75</td>\n",
       "      <td>Unknown</td>\n",
       "      <td>939</td>\n",
       "      <td>NaN</td>\n",
       "      <td>NaN</td>\n",
       "      <td>NaN</td>\n",
       "      <td>NaN</td>\n",
       "      <td>NaN</td>\n",
       "      <td>NaN</td>\n",
       "      <td>NaN</td>\n",
       "    </tr>\n",
       "    <tr>\n",
       "      <th>Amount($)</th>\n",
       "      <td>2312.00</td>\n",
       "      <td>NaN</td>\n",
       "      <td>NaN</td>\n",
       "      <td>NaN</td>\n",
       "      <td>121254276.40</td>\n",
       "      <td>3442955125.02</td>\n",
       "      <td>876.60</td>\n",
       "      <td>1000000.00</td>\n",
       "      <td>3000000.00</td>\n",
       "      <td>12000000.00</td>\n",
       "      <td>150000000000.00</td>\n",
       "    </tr>\n",
       "    <tr>\n",
       "      <th>City</th>\n",
       "      <td>2765</td>\n",
       "      <td>132</td>\n",
       "      <td>Bangalore</td>\n",
       "      <td>866</td>\n",
       "      <td>NaN</td>\n",
       "      <td>NaN</td>\n",
       "      <td>NaN</td>\n",
       "      <td>NaN</td>\n",
       "      <td>NaN</td>\n",
       "      <td>NaN</td>\n",
       "      <td>NaN</td>\n",
       "    </tr>\n",
       "    <tr>\n",
       "      <th>HeadQuarter</th>\n",
       "      <td>2765</td>\n",
       "      <td>172</td>\n",
       "      <td>Bangalore</td>\n",
       "      <td>764</td>\n",
       "      <td>NaN</td>\n",
       "      <td>NaN</td>\n",
       "      <td>NaN</td>\n",
       "      <td>NaN</td>\n",
       "      <td>NaN</td>\n",
       "      <td>NaN</td>\n",
       "      <td>NaN</td>\n",
       "    </tr>\n",
       "    <tr>\n",
       "      <th>What_it_does</th>\n",
       "      <td>2879</td>\n",
       "      <td>2763</td>\n",
       "      <td>Provides online learning classes Byju Raveendran</td>\n",
       "      <td>5</td>\n",
       "      <td>NaN</td>\n",
       "      <td>NaN</td>\n",
       "      <td>NaN</td>\n",
       "      <td>NaN</td>\n",
       "      <td>NaN</td>\n",
       "      <td>NaN</td>\n",
       "      <td>NaN</td>\n",
       "    </tr>\n",
       "    <tr>\n",
       "      <th>Year</th>\n",
       "      <td>2879.00</td>\n",
       "      <td>NaN</td>\n",
       "      <td>NaN</td>\n",
       "      <td>NaN</td>\n",
       "      <td>2020.02</td>\n",
       "      <td>1.09</td>\n",
       "      <td>2018.00</td>\n",
       "      <td>2020.00</td>\n",
       "      <td>2020.00</td>\n",
       "      <td>2021.00</td>\n",
       "      <td>2021.00</td>\n",
       "    </tr>\n",
       "    <tr>\n",
       "      <th>Founded</th>\n",
       "      <td>2110.00</td>\n",
       "      <td>NaN</td>\n",
       "      <td>NaN</td>\n",
       "      <td>NaN</td>\n",
       "      <td>2016.08</td>\n",
       "      <td>4.37</td>\n",
       "      <td>1963.00</td>\n",
       "      <td>2015.00</td>\n",
       "      <td>2017.00</td>\n",
       "      <td>2019.00</td>\n",
       "      <td>2021.00</td>\n",
       "    </tr>\n",
       "    <tr>\n",
       "      <th>Founders</th>\n",
       "      <td>2289</td>\n",
       "      <td>2031</td>\n",
       "      <td>Venture Catalysts</td>\n",
       "      <td>15</td>\n",
       "      <td>NaN</td>\n",
       "      <td>NaN</td>\n",
       "      <td>NaN</td>\n",
       "      <td>NaN</td>\n",
       "      <td>NaN</td>\n",
       "      <td>NaN</td>\n",
       "      <td>NaN</td>\n",
       "    </tr>\n",
       "    <tr>\n",
       "      <th>Investor</th>\n",
       "      <td>1445</td>\n",
       "      <td>1112</td>\n",
       "      <td>$Undisclosed</td>\n",
       "      <td>41</td>\n",
       "      <td>NaN</td>\n",
       "      <td>NaN</td>\n",
       "      <td>NaN</td>\n",
       "      <td>NaN</td>\n",
       "      <td>NaN</td>\n",
       "      <td>NaN</td>\n",
       "      <td>NaN</td>\n",
       "    </tr>\n",
       "  </tbody>\n",
       "</table>\n",
       "</div>"
      ],
      "text/plain": [
       "                count unique  \\\n",
       "Company_Brand    2879   2214   \n",
       "Sector           2879      8   \n",
       "Stage            2879     75   \n",
       "Amount($)     2312.00    NaN   \n",
       "City             2765    132   \n",
       "HeadQuarter      2765    172   \n",
       "What_it_does     2879   2763   \n",
       "Year          2879.00    NaN   \n",
       "Founded       2110.00    NaN   \n",
       "Founders         2289   2031   \n",
       "Investor         1445   1112   \n",
       "\n",
       "                                                            top  freq  \\\n",
       "Company_Brand                                          BharatPe    10   \n",
       "Sector                                                   Energy  1849   \n",
       "Stage                                                   Unknown   939   \n",
       "Amount($)                                                   NaN   NaN   \n",
       "City                                                  Bangalore   866   \n",
       "HeadQuarter                                           Bangalore   764   \n",
       "What_it_does   Provides online learning classes Byju Raveendran     5   \n",
       "Year                                                        NaN   NaN   \n",
       "Founded                                                     NaN   NaN   \n",
       "Founders                                      Venture Catalysts    15   \n",
       "Investor                                           $Undisclosed    41   \n",
       "\n",
       "                      mean           std     min        25%        50%  \\\n",
       "Company_Brand          NaN           NaN     NaN        NaN        NaN   \n",
       "Sector                 NaN           NaN     NaN        NaN        NaN   \n",
       "Stage                  NaN           NaN     NaN        NaN        NaN   \n",
       "Amount($)     121254276.40 3442955125.02  876.60 1000000.00 3000000.00   \n",
       "City                   NaN           NaN     NaN        NaN        NaN   \n",
       "HeadQuarter            NaN           NaN     NaN        NaN        NaN   \n",
       "What_it_does           NaN           NaN     NaN        NaN        NaN   \n",
       "Year               2020.02          1.09 2018.00    2020.00    2020.00   \n",
       "Founded            2016.08          4.37 1963.00    2015.00    2017.00   \n",
       "Founders               NaN           NaN     NaN        NaN        NaN   \n",
       "Investor               NaN           NaN     NaN        NaN        NaN   \n",
       "\n",
       "                      75%             max  \n",
       "Company_Brand         NaN             NaN  \n",
       "Sector                NaN             NaN  \n",
       "Stage                 NaN             NaN  \n",
       "Amount($)     12000000.00 150000000000.00  \n",
       "City                  NaN             NaN  \n",
       "HeadQuarter           NaN             NaN  \n",
       "What_it_does          NaN             NaN  \n",
       "Year              2021.00         2021.00  \n",
       "Founded           2019.00         2021.00  \n",
       "Founders              NaN             NaN  \n",
       "Investor              NaN             NaN  "
      ]
     },
     "execution_count": 123,
     "metadata": {},
     "output_type": "execute_result"
    }
   ],
   "source": [
    "df.describe(include=\"all\").T"
   ]
  },
  {
   "cell_type": "code",
   "execution_count": 120,
   "id": "84541368",
   "metadata": {},
   "outputs": [
    {
     "data": {
      "text/plain": [
       "array([[<Axes: title={'center': 'Amount($)'}>,\n",
       "        <Axes: title={'center': 'Year'}>,\n",
       "        <Axes: title={'center': 'Founded'}>],\n",
       "       [<Axes: >, <Axes: >, <Axes: >],\n",
       "       [<Axes: >, <Axes: >, <Axes: >],\n",
       "       [<Axes: >, <Axes: >, <Axes: >]], dtype=object)"
      ]
     },
     "execution_count": 120,
     "metadata": {},
     "output_type": "execute_result"
    },
    {
     "data": {
      "image/png": "[encoded data removed]",
      "text/plain": [
       "<Figure size 1000x600 with 12 Axes>"
      ]
     },
     "metadata": {},
     "output_type": "display_data"
    }
   ],
   "source": [
    "# Universal analysis\n",
    "# Histogram for numeric variables\n",
    "\n",
    "df.hist(\n",
    "    figsize=(10,6),\n",
    "    layout=(4,3),\n",
    "    bins=20\n",
    "    )"
   ]
  },
  {
   "cell_type": "code",
   "execution_count": null,
   "id": "e38f175c",
   "metadata": {},
   "outputs": [],
   "source": [
    "df.info()"
   ]
  },
  {
   "cell_type": "markdown",
   "id": "ea9ac062",
   "metadata": {},
   "source": [
    "# Hypothesis Testing"
   ]
  },
  {
   "cell_type": "markdown",
   "id": "d60da886",
   "metadata": {},
   "source": [
    "***Null Hypothesis (H0):*** There is no difference in the amount of funding received by start-ups across different sectors.\n",
    "\n",
    "***Alternative Hypothesis (H1):*** There is a difference in the amount of funding received by start-ups across different sectors."
   ]
  },
  {
   "cell_type": "code",
   "execution_count": null,
   "id": "b89ab817",
   "metadata": {},
   "outputs": [],
   "source": [
    "from scipy.stats import shapiro, levene\n",
    "\n",
    "#  data\n",
    "data = np.random.normal(loc=0, scale=1, size=100)\n",
    "\n",
    "# Shapiro-Wilk Test for normality\n",
    "shapiro_stat, shapiro_p = shapiro(data)\n",
    "print(\"Shapiro-Wilk Test for Normality:\")\n",
    "print(\"Test Statistic:\", shapiro_stat)\n",
    "print(\"p-value:\", shapiro_p)\n",
    "\n",
    "\n",
    "\n",
    "# Levene's Test for homogeneity of variances (example with 3 groups)\n",
    "group1 = np.random.normal(loc=0, scale=1, size=50)\n",
    "group2 = np.random.normal(loc=0.5, scale=1.5, size=50)\n",
    "group3 = np.random.normal(loc=-0.5, scale=0.5, size=50)\n",
    "\n",
    "levene_stat, levene_p = levene(group1, group2, group3)\n",
    "print(\"Levene's Test for Homogeneity of Variances:\")\n",
    "print(\"Test Statistic:\", levene_stat)\n",
    "print(\"p-value:\", levene_p)\n"
   ]
  },
  {
   "cell_type": "markdown",
   "id": "2cf1ff5a",
   "metadata": {},
   "source": [
    "*1.* Shapiro-Wilk Test for Normality: The test statistic calculated by the Shapiro-Wilk test measures the discrepancy between the observed data and what we would expect under the assumption of normality. A higher value indicates closer adherence to normality. The p-value is the probability associated with the test statistic. It indicates the likelihood of obtaining the observed data if the null hypothesis A higher p-value suggests weaker evidence against the null hypothesis.\n",
    "In this case, the p-value (0.126) is greater than the chosen significance level (usually 0.05), indicating that the data is normally distributed.\n",
    "\n",
    "*2.* Levene's Test for Homogeneity of Variances: Test Statistic: This is the test statistic calculated by Levene's test measures the discrepancy between the variances of the groups being compared. A higher value indicates greater variability between the group variances. The p-value is the probability associated with the test statistic. It indicates the likelihood of obtaining the observed data if the null hypothesis (all group variances are equal) were true. A lower p-value suggests stronger evidence against the null hypothesis.\n",
    "Given these results:\n",
    "\n",
    "If the assumption of normality holds (based on the Shapiro-Wilk test), and the assumption of homogeneity of variances is met (based on Levene's test), you can use ANOVA. If the assumption of normality is violated, or the assumption of homogeneity of variances is not met, you should use the Kruskal-Wallis H test, which is a non-parametric alternative to ANOVA. In this case, since the assumption of homogeneity of variances is violated (p-value < 0.05),"
   ]
  },
  {
   "cell_type": "code",
   "execution_count": null,
   "id": "42143f1a",
   "metadata": {},
   "outputs": [],
   "source": [
    "from scipy.stats import kruskal\n",
    "\n",
    "\n",
    "\n",
    "sector_groups = [df[df['Sector'] == sector]['Amount($)'] for sector in df['Sector'].unique()]\n",
    "\n",
    "\n",
    "# Perform Kruskal-Wallis H-test\n",
    "h_statistic, p_value = kruskal(*sector_groups)\n",
    "\n",
    "# Print the results\n",
    "print(\"Kruskal-Wallis H-test Results:\")\n",
    "print(\"H-statistic:\", h_statistic)\n",
    "print(\"p-value:\", p_value)\n",
    "\n",
    "# Interpret the results\n",
    "alpha = 0.05\n",
    "if p_value < alpha:\n",
    "    print(\"Reject the null hypothesis: There is a difference in funding amounts across different sectors.\")\n",
    "else:\n",
    "    print(\"Fail to reject the null hypothesis: There is no significant difference in funding amounts across different sectors.\")"
   ]
  },
  {
   "cell_type": "markdown",
   "id": "46253030",
   "metadata": {},
   "source": [
    "Based on the Kruskal-Wallis H-test results, we can conclude that there is indeed a difference in funding amounts across different sectors."
   ]
  },
  {
   "cell_type": "code",
   "execution_count": null,
   "id": "03f97321",
   "metadata": {},
   "outputs": [],
   "source": [
    "\n",
    "\n",
    "# Create a boxplot\n",
    "plt.figure(figsize=(10, 6))  # Adjust the size of your plot as necessary\n",
    "sns.boxplot(x='City', y='Amount($)', data=df)\n",
    "\n",
    "plt.title('Distribution of Amount($) by City')\n",
    "plt.show()\n"
   ]
  },
  {
   "cell_type": "markdown",
   "id": "ea7d517f",
   "metadata": {},
   "source": [
    "# Exploratory Data Analysis (EDA)"
   ]
  },
  {
   "cell_type": "code",
   "execution_count": 124,
   "metadata": {},
   "outputs": [
    {
     "name": "stdout",
     "output_type": "stream",
     "text": [
      "<class 'pandas.core.frame.DataFrame'>\n",
      "RangeIndex: 2879 entries, 0 to 2878\n",
      "Data columns (total 11 columns):\n",
      " #   Column         Non-Null Count  Dtype  \n",
      "---  ------         --------------  -----  \n",
      " 0   Company_Brand  2879 non-null   object \n",
      " 1   Sector         2879 non-null   object \n",
      " 2   Stage          2879 non-null   object \n",
      " 3   Amount($)      2312 non-null   float64\n",
      " 4   City           2765 non-null   object \n",
      " 5   HeadQuarter    2765 non-null   object \n",
      " 6   What_it_does   2879 non-null   object \n",
      " 7   Year           2879 non-null   int64  \n",
      " 8   Founded        2110 non-null   float64\n",
      " 9   Founders       2289 non-null   object \n",
      " 10  Investor       1445 non-null   object \n",
      "dtypes: float64(2), int64(1), object(8)\n",
      "memory usage: 247.5+ KB\n"
     ]
    }
   ],
   "source": [
    "df.info()"
   ]
  },
  {
   "cell_type": "markdown",
   "id": "0a665d94",
   "metadata": {},
   "source": [
    "### Univariate Analysis"
   ]
  },
  {
   "cell_type": "code",
   "execution_count": null,
   "id": "ee5a9063",
   "metadata": {},
   "outputs": [],
   "source": [
    "df.describe()"
   ]
  },
  {
   "cell_type": "code",
   "execution_count": null,
   "id": "693e190c",
   "metadata": {},
   "outputs": [],
   "source": [
    "df.isnull().sum()"
   ]
  },
  {
   "cell_type": "code",
   "execution_count": null,
   "id": "2dead7c9",
   "metadata": {},
   "outputs": [],
   "source": [
    "df.nunique()\n"
   ]
  },
  {
   "cell_type": "code",
   "execution_count": null,
   "id": "2372b10d",
   "metadata": {},
   "outputs": [],
   "source": [
    "df.nunique().sum()\n"
   ]
  },
  {
   "cell_type": "code",
   "execution_count": null,
   "id": "a29ba387",
   "metadata": {},
   "outputs": [],
   "source": [
    "df.sort_values(by='Amount($)', ascending=True).head()"
   ]
  },
  {
   "cell_type": "code",
   "execution_count": null,
   "id": "324229f4",
   "metadata": {},
   "outputs": [],
   "source": [
    "df.sort_values(by='Amount($)', ascending=False).head()"
   ]
  },
  {
   "cell_type": "code",
   "execution_count": 125,
   "id": "99444ab6",
   "metadata": {},
   "outputs": [
    {
     "data": {
      "text/plain": [
       "<Axes: >"
      ]
     },
     "execution_count": 125,
     "metadata": {},
     "output_type": "execute_result"
    },
    {
     "data": {
      "image/png": "[encoded data removed]",
      "text/plain": [
       "<Figure size 640x480 with 1 Axes>"
      ]
     },
     "metadata": {},
     "output_type": "display_data"
    }
   ],
   "source": [
    "# Looking for outliers \n",
    "df.boxplot()"
   ]
  },
  {
   "cell_type": "code",
   "execution_count": 126,
   "id": "eb382927",
   "metadata": {},
   "outputs": [
    {
     "data": {
      "text/html": [
       "<div>\n",
       "<style scoped>\n",
       "    .dataframe tbody tr th:only-of-type {\n",
       "        vertical-align: middle;\n",
       "    }\n",
       "\n",
       "    .dataframe tbody tr th {\n",
       "        vertical-align: top;\n",
       "    }\n",
       "\n",
       "    .dataframe thead th {\n",
       "        text-align: right;\n",
       "    }\n",
       "</style>\n",
       "<table border=\"1\" class=\"dataframe\">\n",
       "  <thead>\n",
       "    <tr style=\"text-align: right;\">\n",
       "      <th></th>\n",
       "      <th>Amount($)</th>\n",
       "      <th>Year</th>\n",
       "      <th>Founded</th>\n",
       "    </tr>\n",
       "  </thead>\n",
       "  <tbody>\n",
       "    <tr>\n",
       "      <th>Amount($)</th>\n",
       "      <td>1.00</td>\n",
       "      <td>0.02</td>\n",
       "      <td>-0.02</td>\n",
       "    </tr>\n",
       "    <tr>\n",
       "      <th>Year</th>\n",
       "      <td>0.02</td>\n",
       "      <td>1.00</td>\n",
       "      <td>0.15</td>\n",
       "    </tr>\n",
       "    <tr>\n",
       "      <th>Founded</th>\n",
       "      <td>-0.02</td>\n",
       "      <td>0.15</td>\n",
       "      <td>1.00</td>\n",
       "    </tr>\n",
       "  </tbody>\n",
       "</table>\n",
       "</div>"
      ],
      "text/plain": [
       "           Amount($)  Year  Founded\n",
       "Amount($)       1.00  0.02    -0.02\n",
       "Year            0.02  1.00     0.15\n",
       "Founded        -0.02  0.15     1.00"
      ]
     },
     "execution_count": 126,
     "metadata": {},
     "output_type": "execute_result"
    }
   ],
   "source": [
    "# Select only numeric columns\n",
    "numeric_df = df.select_dtypes(include=[np.number])\n",
    "\n",
    "# Calculate correlation\n",
    "correlation = numeric_df.corr()\n",
    "correlation"
   ]
  },
  {
   "cell_type": "code",
   "execution_count": 127,
   "id": "9a7a7826",
   "metadata": {},
   "outputs": [
    {
     "data": {
      "text/plain": [
       "<function matplotlib.pyplot.show(close=None, block=None)>"
      ]
     },
     "execution_count": 127,
     "metadata": {},
     "output_type": "execute_result"
    },
    {
     "data": {
      "image/png": "[encoded data removed]",
      "text/plain": [
       "<Figure size 640x480 with 2 Axes>"
      ]
     },
     "metadata": {},
     "output_type": "display_data"
    }
   ],
   "source": [
    "# This line of code creates a heatmap using seaborn (sns) of the 'correlation' matrix. \n",
    "sns.heatmap(correlation, annot=True)\n",
    "\n",
    "plt.show"
   ]
  },
  {
   "cell_type": "code",
   "execution_count": null,
   "id": "a7d2e5f8",
   "metadata": {},
   "outputs": [],
   "source": [
    "df.select_dtypes(include=[np.number]).mean()\n"
   ]
  },
  {
   "cell_type": "code",
   "execution_count": null,
   "id": "8bf16186",
   "metadata": {},
   "outputs": [],
   "source": [
    "df.select_dtypes(include='number')"
   ]
  },
  {
   "cell_type": "markdown",
   "id": "43ea4bc9",
   "metadata": {},
   "source": [
    "**Distribution of Numeric Columns:**"
   ]
  },
  {
   "cell_type": "code",
   "execution_count": 128,
   "id": "0a8b2aa4",
   "metadata": {},
   "outputs": [
    {
     "data": {
      "image/png": "[encoded data removed]",
      "text/plain": [
       "<Figure size 1600x500 with 4 Axes>"
      ]
     },
     "metadata": {},
     "output_type": "display_data"
    }
   ],
   "source": [
    "# Set up the figure and axis\n",
    "fig, axes = plt.subplots(nrows=1, ncols=4, figsize=(16, 5))\n",
    "\n",
    "# Distribution of 'Amount' column\n",
    "sns.histplot(df['Amount($)'], bins=20, kde=True, ax=axes[0])\n",
    "axes[0].set_title('Distribution of Amount')\n",
    "\n",
    "# Distribution of 'Year' column\n",
    "sns.histplot(df['Year'], bins=20, kde=True, ax=axes[1])\n",
    "axes[1].set_title('Distribution of Year')\n",
    "\n",
    "# Distribution of 'Founded' column\n",
    "sns.histplot(df['Founded'], bins=20, kde=True, ax=axes[2])\n",
    "axes[2].set_title('Distribution of Founded')\n",
    "\n",
    "plt.tight_layout()\n",
    "plt.show()"
   ]
  },
  {
   "cell_type": "code",
   "execution_count": null,
   "id": "46e82970",
   "metadata": {},
   "outputs": [],
   "source": [
    "df.select_dtypes(include='object')"
   ]
  },
  {
   "cell_type": "markdown",
   "id": "d54dc07c",
   "metadata": {},
   "source": [
    "**Distribution of Categorical Columns:**"
   ]
  },
  {
   "cell_type": "code",
   "execution_count": 129,
   "id": "1c2a4e8c",
   "metadata": {},
   "outputs": [
    {
     "data": {
      "image/png": "[encoded data removed]",
      "text/plain": [
       "<Figure size 1000x600 with 1 Axes>"
      ]
     },
     "metadata": {},
     "output_type": "display_data"
    }
   ],
   "source": [
    "# Univariate analysis for categorical columns\n",
    "categorical_columns = ['Sector']\n",
    "\n",
    "for column in categorical_columns:\n",
    "    plt.figure(figsize=(10, 6))\n",
    "    sns.countplot(df[column])\n",
    "    plt.title(f'Frequency Counts for {column}')\n",
    "    plt.xticks(rotation=45, ha='right')\n",
    "    plt.show()"
   ]
  },
  {
   "cell_type": "code",
   "execution_count": null,
   "id": "9f2d69fd",
   "metadata": {},
   "outputs": [],
   "source": [
    "# Univariate analysis for categorical columns\n",
    "categorical_columns = ['Stage', 'City']\n",
    "\n",
    "for column in categorical_columns:\n",
    "    plt.figure(figsize=(10, 6))\n",
    "    sns.countplot(data=df, y=column, order=df[column].value_counts().iloc[:20].index)\n",
    "    plt.title(f'Top 20 Frequency Counts for {column}')\n",
    "    plt.xlabel('Frequency')\n",
    "    plt.ylabel(column)\n",
    "    plt.show()"
   ]
  },
  {
   "cell_type": "markdown",
   "id": "7344a94d",
   "metadata": {},
   "source": [
    "### Multivariate Analysis"
   ]
  },
  {
   "cell_type": "code",
   "execution_count": 132,
   "id": "99c0e11e",
   "metadata": {},
   "outputs": [
    {
     "data": {
      "image/png": "[encoded data removed]",
      "text/plain": [
       "<Figure size 1800x2000 with 4 Axes>"
      ]
     },
     "metadata": {},
     "output_type": "display_data"
    }
   ],
   "source": [
    "\n",
    "# Categorical vs. Numerical\n",
    "plt.figure(figsize=(18, 20))\n",
    "\n",
    "# Adjust vertical space between subplots\n",
    "plt.subplots_adjust(hspace=0.5)\n",
    "\n",
    "# Categorical: Main Sector vs. Numerical: Amount (Column Chart)\n",
    "plt.subplot(4, 2, 1)\n",
    "top_10_main_sector = df['Sector'].value_counts().head(10).index\n",
    "sns.barplot(x='Sector', y='Amount($)', data=df[df['Sector'].isin(top_10_main_sector)])\n",
    "plt.title('Sector vs. Amount($)')\n",
    "plt.xticks(rotation=45, ha='right')   \n",
    "\n",
    "# Categorical: Main Sector vs. Numerical: Years of Existence (Column Chart)\n",
    "plt.subplot(4, 2, 2)\n",
    "sns.barplot(x='Sector', y='Year', data=df[df['Sector'].isin(top_10_main_sector)])\n",
    "plt.title('Sector vs. Year')\n",
    "plt.xticks(rotation=45, ha='right')\n",
    "\n",
    "# Categorical: Industry vs. Numerical: Amount (Column Chart)\n",
    "plt.subplot(4, 2, 3)\n",
    "top_10_industry = df['City'].value_counts().head(10).index\n",
    "sns.barplot(x='City', y='Amount($)', data=df[df['City'].isin(top_10_industry)])\n",
    "plt.title('City vs. Amount($)')\n",
    "plt.xticks(rotation=45, ha='right')  \n",
    "\n",
    "# Categorical: Top 10 Stage vs. Numerical: Amount (Column Chart)\n",
    "plt.subplot(4, 2, 4)\n",
    "top_10_stage = df['Stage'].value_counts().head(10).index\n",
    "sns.barplot(x='Stage', y='Amount($)', data=df[df['Stage'].isin(top_10_stage)])\n",
    "plt.title('Top 10 Stage vs. Amount($)')\n",
    "plt.xticks(rotation=45, ha='right')\n",
    "\n",
    "plt.tight_layout()\n",
    "plt.show()"
   ]
  },
  {
   "cell_type": "markdown",
   "id": "0db3eb2f",
   "metadata": {},
   "source": [
    "**Numerical vs. Numerical**"
   ]
  },
  {
   "cell_type": "code",
   "execution_count": 130,
   "id": "ad405d82",
   "metadata": {},
   "outputs": [
    {
     "data": {
      "image/png": "[encoded data removed]",
      "text/plain": [
       "<Figure size 1500x500 with 1 Axes>"
      ]
     },
     "metadata": {},
     "output_type": "display_data"
    }
   ],
   "source": [
    "# Numerical vs. Numerical\n",
    "plt.figure(figsize=(15, 5))\n",
    "\n",
    "# Founded vs. Years of Existence\n",
    "plt.subplot(1, 3, 3)\n",
    "sns.scatterplot(x='Year', y='Amount($)', data=df)\n",
    "plt.title('Amount($) vs. Year')\n",
    "\n",
    "plt.tight_layout()\n",
    "plt.show()"
   ]
  },
  {
   "cell_type": "code",
   "execution_count": 131,
   "id": "f53c54a9",
   "metadata": {},
   "outputs": [
    {
     "data": {
      "image/png": "[encoded data removed]",
      "text/plain": [
       "<Figure size 750x750 with 12 Axes>"
      ]
     },
     "metadata": {},
     "output_type": "display_data"
    }
   ],
   "source": [
    "# Scatter Plots\n",
    "# Create scatter plots for pairs of numeric variables\n",
    "sns.pairplot(df[['Amount($)', 'Year', 'Founded']])\n",
    "plt.show()"
   ]
  },
  {
   "cell_type": "markdown",
   "id": "db4dddca",
   "metadata": {},
   "source": [
    "# Business Analysis Questions "
   ]
  },
  {
   "cell_type": "markdown",
   "id": "0d4038a7",
   "metadata": {},
   "source": [
    "### ***Question 1*** - How has the funding trend for Indian start-ups changed from 2018 to 2021? "
   ]
  },
  {
   "cell_type": "code",
   "execution_count": null,
   "id": "0351593b",
   "metadata": {},
   "outputs": [],
   "source": [
    "# Line plot showing funding trend over years\n",
    "plt.figure(figsize=(10, 6))\n",
    "sns.lineplot(x='Year', y='Amount($)', data=df)\n",
    "plt.title('Funding Trends for Indian Start-ups by Sector (2018-2021)')\n",
    "plt.xlabel('Founding Year')\n",
    "plt.ylabel('Amount (in USD)')\n",
    "plt.show()"
   ]
  },
  {
   "cell_type": "code",
   "execution_count": null,
   "id": "202f9785",
   "metadata": {},
   "outputs": [],
   "source": [
    "\n",
    "# Group the data by year and calculate the total funding amount for each year\n",
    "funding_trend = df.groupby('Year')['Amount($)'].sum().reset_index()\n",
    "\n",
    "# Plotting the funding trend over the years\n",
    "plt.figure(figsize=(12, 8))\n",
    "sns.lineplot(x='Year', y='Amount($)', data=funding_trend, marker='o', color='b')\n",
    "plt.title('Funding Trends for Indian Start-ups (2018-2021)')\n",
    "plt.xlabel('Year')\n",
    "plt.ylabel('Total Funding Amount (in USD)')\n",
    "plt.xticks(rotation=45)\n",
    "plt.grid(True)\n",
    "plt.show()"
   ]
  },
  {
   "cell_type": "markdown",
   "id": "236545ac",
   "metadata": {},
   "source": [
    "### ***Question 2*** - Which sectors or industries received the most funding? "
   ]
  },
  {
   "cell_type": "code",
   "execution_count": null,
   "id": "657c08e0",
   "metadata": {},
   "outputs": [],
   "source": [
    "# Sort the DataFrame by the total funding amount for each industry in descending order\n",
    "industry_total_funding = df.groupby('Sector')['Amount($)'].sum().sort_values(ascending=False).reset_index()\n",
    "\n",
    "# Plotting\n",
    "plt.figure(figsize=(12, 8))\n",
    "sns.barplot(y='Amount($)', x='Sector', data=industry_total_funding)\n",
    "plt.title('Total Funding by Industry')\n",
    "plt.xlabel('Sector')\n",
    "plt.ylabel('Total Funding Amount (in USD)')\n",
    "plt.xticks(rotation=45, ha='right')\n",
    "plt.show()"
   ]
  },
  {
   "cell_type": "markdown",
   "id": "1ed2403c",
   "metadata": {},
   "source": [
    "### ***Question 3*** - Who are the major investors in the Indian start-up ecosystem?"
   ]
  },
  {
   "cell_type": "code",
   "execution_count": null,
   "id": "6d89399f",
   "metadata": {},
   "outputs": [],
   "source": [
    "# Plotting the frequency of investments by investor\n",
    "plt.figure(figsize=(12, 8))\n",
    "sns.countplot(y='Investor', data=df, order=df['Investor'].value_counts().index[:10], palette='muted')\n",
    "plt.title('Frequency of Investments by Major Investors (Top 10)')\n",
    "plt.xlabel('Number of Investments')\n",
    "plt.ylabel('Investor')\n",
    "plt.xticks(rotation=45)\n",
    "plt.show()"
   ]
  },
  {
   "cell_type": "markdown",
   "id": "204918fc",
   "metadata": {},
   "source": [
    "### ***Question 4*** - Are there any specific cities in India that are attracting more start-ups than the others?"
   ]
  },
  {
   "cell_type": "code",
   "execution_count": null,
   "id": "b760057c",
   "metadata": {},
   "outputs": [],
   "source": [
    "\n",
    "# Plotting the frequency of start-ups by city or region\n",
    "plt.figure(figsize=(12, 8))\n",
    "sns.countplot(y='City', data=df, order=df['City'].value_counts().index[:10], palette='muted')\n",
    "plt.title('Frequency of Start-ups by City (Top 10)')\n",
    "plt.xlabel('Number of Start-ups')\n",
    "plt.ylabel('City')\n",
    "plt.xticks(rotation=45)\n",
    "plt.show()"
   ]
  },
  {
   "cell_type": "markdown",
   "id": "b8e87c54",
   "metadata": {},
   "source": [
    "### ***Question 5*** - Which cities in India have attracted the most funding?"
   ]
  },
  {
   "cell_type": "code",
   "execution_count": null,
   "id": "6364ac10",
   "metadata": {},
   "outputs": [],
   "source": [
    "# Group the data by city or region and calculate the total funding amount for each\n",
    "funding_by_city = df.groupby('City')['Amount($)'].sum().reset_index()\n",
    "\n",
    "# Sort the data in descending order based on total funding amount\n",
    "funding_by_city_sorted = funding_by_city.sort_values(by='Amount($)', ascending=False)\n",
    "\n",
    "# Plotting the total funding amount by city or region\n",
    "plt.figure(figsize=(12, 8))\n",
    "sns.barplot(x='Amount($)', y='City', data=funding_by_city_sorted[:10], palette='viridis')\n",
    "plt.title('Total Funding by City (Top 10)')\n",
    "plt.xlabel('Total Funding Amount (in USD)')\n",
    "plt.ylabel('City')\n",
    "plt.xticks(rotation=45)\n",
    "plt.show()"
   ]
  },
  {
   "cell_type": "markdown",
   "id": "bb44fd70",
   "metadata": {},
   "source": [
    "### ***Question 6*** - Which start-ups have shown the most growth in terms of funding received over the years?"
   ]
  },
  {
   "cell_type": "code",
   "execution_count": null,
   "id": "2c5cb373",
   "metadata": {},
   "outputs": [],
   "source": [
    "\n",
    "# Grouping the data by year and industry and counting the number of investments\n",
    "investment_counts = df.groupby(['Year', 'Sector']).size().reset_index(name='Investment Count')\n",
    "\n",
    "# Calculating the percentage change in investment counts between consecutive years for each industry\n",
    "investment_counts['Percentage Change'] = investment_counts.groupby('Sector')['Investment Count'].pct_change()\n",
    "\n",
    "# Filtering out the rows with NaN percentage change (due to no data for the previous year)\n",
    "investment_counts = investment_counts.dropna()\n",
    "\n",
    "# Getting the top 3 emerging sectors with the highest percentage change\n",
    "top_emerging_sectors = investment_counts.groupby('Sector')['Percentage Change'].mean().nlargest(5).index.tolist()\n",
    "\n",
    "# Filtering the data for the top 3 emerging sectors\n",
    "emerging_sectors_data = investment_counts[investment_counts['Sector'].isin(top_emerging_sectors)]\n",
    "\n",
    "# Plotting the investment counts over time for the top 3 emerging sectors\n",
    "plt.figure(figsize=(12, 8))\n",
    "sns.lineplot(data=emerging_sectors_data, x='Year', y='Investment Count', hue='Sector', marker='o')\n",
    "plt.title('Investment Trends in Top 5 Emerging Sectors')\n",
    "plt.xlabel('Year')\n",
    "plt.ylabel('Investment Count')\n",
    "plt.legend(title='Sector')\n",
    "plt.grid(True)\n",
    "\n",
    "\n",
    "plt.show()"
   ]
  }
 ],
 "metadata": {
  "kernelspec": {
   "display_name": "venv",
   "language": "python",
   "name": "python3"
  },
  "language_info": {
   "codemirror_mode": {
    "name": "ipython",
    "version": 3
   },
   "file_extension": ".py",
   "mimetype": "text/x-python",
   "name": "python",
   "nbconvert_exporter": "python",
   "pygments_lexer": "ipython3",
   "version": "3.10.9"
  }
 },
 "nbformat": 4,
 "nbformat_minor": 5
}
